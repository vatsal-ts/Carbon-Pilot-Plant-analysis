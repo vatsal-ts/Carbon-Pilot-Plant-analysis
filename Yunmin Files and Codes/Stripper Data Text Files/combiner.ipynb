{
 "cells": [
  {
   "cell_type": "code",
   "execution_count": 16,
   "metadata": {},
   "outputs": [],
   "source": [
    "import numpy as np\n",
    "import pandas as pd \n"
   ]
  },
  {
   "cell_type": "code",
   "execution_count": 10,
   "metadata": {},
   "outputs": [],
   "source": [
    "# mainX=np.loadtxt(\"stripper_train_3.txt\")\n",
    "# mainX=[];\n",
    "mainX=np.loadtxt(\"stripper_data_1b.txt\")\n",
    "# for i in range(2,14):\n",
    "#     next=loadtxt(\"stripper_data_\"+str(i)+\"b.txt\")\n",
    "#     BigX=np.concatenate((BigX,next),axis=0)"
   ]
  },
  {
   "cell_type": "code",
   "execution_count": 12,
   "metadata": {},
   "outputs": [],
   "source": [
    "for i in range(2,14):\n",
    "    next=np.loadtxt(\"stripper_data_\"+str(i)+\"b.txt\")\n",
    "    mainX=np.concatenate((mainX,next),axis=0)"
   ]
  },
  {
   "cell_type": "code",
   "execution_count": 14,
   "metadata": {},
   "outputs": [
    {
     "name": "stdout",
     "output_type": "stream",
     "text": [
      "<class 'numpy.ndarray'>\n"
     ]
    }
   ],
   "source": [
    "print (type(mainX))"
   ]
  },
  {
   "cell_type": "code",
   "execution_count": 19,
   "metadata": {},
   "outputs": [],
   "source": [
    "pd.DataFrame(mainX).to_csv(\"combined_all.csv\")\n",
    "# file=open(\"all_textual.txt\",\"w\")\n",
    "# pd.DataFrame(mainX).to_txt(\"all_textual.txt\")\n",
    "np.savetxt('all_text.txt', mainX, delimiter=',')"
   ]
  },
  {
   "cell_type": "code",
   "execution_count": null,
   "metadata": {},
   "outputs": [],
   "source": []
  }
 ],
 "metadata": {
  "interpreter": {
   "hash": "6b4d5c29bb11500a5840049150a0d6ee053ab52dc8028f9b9d811917740b0b1e"
  },
  "kernelspec": {
   "display_name": "Python 3.9.6 64-bit",
   "language": "python",
   "name": "python3"
  },
  "language_info": {
   "codemirror_mode": {
    "name": "ipython",
    "version": 3
   },
   "file_extension": ".py",
   "mimetype": "text/x-python",
   "name": "python",
   "nbconvert_exporter": "python",
   "pygments_lexer": "ipython3",
   "version": "3.9.6"
  },
  "orig_nbformat": 4
 },
 "nbformat": 4,
 "nbformat_minor": 2
}
