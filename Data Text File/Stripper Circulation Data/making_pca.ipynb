{
 "cells": [
  {
   "cell_type": "code",
   "execution_count": 11,
   "metadata": {},
   "outputs": [],
   "source": [
    "import pandas as pd\n",
    "from sklearn.preprocessing import StandardScaler,RobustScaler\n",
    "from sklearn.decomposition import PCA\n",
    "rc=RobustScaler()"
   ]
  },
  {
   "cell_type": "code",
   "execution_count": 31,
   "metadata": {},
   "outputs": [
    {
     "data": {
      "text/plain": [
       "array([[ 1.41605446, -1.52249757,  0.        , ..., -1.07643041,\n",
       "        -1.10439255, -1.04277602],\n",
       "       [ 1.45585832, -1.38803624,  0.        , ..., -1.1057564 ,\n",
       "        -1.05601046, -1.03773527],\n",
       "       [ 1.44342859, -1.47518155,  0.        , ..., -1.09845247,\n",
       "        -1.05398156, -0.99002406],\n",
       "       ...,\n",
       "       [-0.29838521,  0.92296174,  0.        , ...,  0.92425672,\n",
       "         0.90920571,  0.93713135],\n",
       "       [-0.27345392,  0.89780639,  0.        , ...,  0.93890276,\n",
       "         0.95054558,  0.93731169],\n",
       "       [-0.25556374,  0.92745377,  0.        , ...,  0.91997701,\n",
       "         0.9365285 ,  0.94034669]])"
      ]
     },
     "execution_count": 31,
     "metadata": {},
     "output_type": "execute_result"
    }
   ],
   "source": [
    "\n",
    "df = pd.read_table('stripper_train_3.txt', sep=\"\\t\", header=None)\n",
    "rc.fit_transform(df)\n",
    "#print(df)"
   ]
  },
  {
   "cell_type": "code",
   "execution_count": 32,
   "metadata": {},
   "outputs": [],
   "source": [
    "pca = PCA(n_components=15)\n",
    "principalComponents = pca.fit_transform(df)"
   ]
  },
  {
   "cell_type": "code",
   "execution_count": 33,
   "metadata": {},
   "outputs": [],
   "source": [
    "principalDf = pd.DataFrame(data = principalComponents)"
   ]
  },
  {
   "cell_type": "code",
   "execution_count": 34,
   "metadata": {},
   "outputs": [
    {
     "data": {
      "text/plain": [
       "array([9.69108480e+01, 2.41352273e+00, 6.71114670e-01, 4.24624253e-03,\n",
       "       2.32041447e-04, 2.56896963e-05, 6.51279945e-06, 1.16532515e-06,\n",
       "       7.62721461e-07, 2.66803623e-07, 1.76018423e-07, 1.61223588e-07,\n",
       "       1.45462345e-07, 1.33148746e-07, 1.18604530e-07])"
      ]
     },
     "execution_count": 34,
     "metadata": {},
     "output_type": "execute_result"
    }
   ],
   "source": [
    "pca.explained_variance_ratio_*100"
   ]
  },
  {
   "cell_type": "code",
   "execution_count": null,
   "metadata": {},
   "outputs": [],
   "source": []
  }
 ],
 "metadata": {
  "interpreter": {
   "hash": "6b4d5c29bb11500a5840049150a0d6ee053ab52dc8028f9b9d811917740b0b1e"
  },
  "kernelspec": {
   "display_name": "Python 3.9.6 64-bit",
   "language": "python",
   "name": "python3"
  },
  "language_info": {
   "codemirror_mode": {
    "name": "ipython",
    "version": 3
   },
   "file_extension": ".py",
   "mimetype": "text/x-python",
   "name": "python",
   "nbconvert_exporter": "python",
   "pygments_lexer": "ipython3",
   "version": "3.9.6"
  },
  "orig_nbformat": 4
 },
 "nbformat": 4,
 "nbformat_minor": 2
}
